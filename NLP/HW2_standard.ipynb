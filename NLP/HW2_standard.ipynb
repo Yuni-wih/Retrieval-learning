{
 "cells": [
  {
   "cell_type": "code",
   "execution_count": null,
   "metadata": {},
   "outputs": [],
   "source": [
    "import json \n",
    "import stanza\n",
    "from stanza.utils.resources import DEFAULT_MODEL_DIR\n",
    "print(DEFAULT_MODEL_DIR)\n",
    "from tqdm import tqdm\n",
    "from ckiptagger import WS\n",
    "from pathlib import Path"
   ]
  },
  {
   "cell_type": "code",
   "execution_count": null,
   "metadata": {},
   "outputs": [],
   "source": [
    "data = [json.loads(l) for l in open(\"/Users/yuni/cts_0301_0403_news.json\",'r',encoding='utf-8')]"
   ]
  },
  {
   "cell_type": "code",
   "execution_count": null,
   "metadata": {},
   "outputs": [],
   "source": [
    "ws = WS(str(Path.home())+'/ckip/data', disable_cuda=True)"
   ]
  },
  {
   "cell_type": "code",
   "execution_count": null,
   "metadata": {},
   "outputs": [],
   "source": [
    "stanza_tokenize = stanza.Pipeline(lang='zh-hant',processors='tokenize',use_gpu=False)"
   ]
  },
  {
   "cell_type": "code",
   "execution_count": null,
   "metadata": {},
   "outputs": [],
   "source": [
    "for d in tqdm(data):\n",
    "    d['title_ckiptagger_segment']=ws([d['title']])\n",
    "    d['content_ckiptagger_segment']=ws([d['content']])\n",
    "    d['title_stanza_segment']=[[word.text for word in sent.words] for sent in stanza_tokenize(d['title']).sentences]\n",
    "    d['content_stanza_segment']=[[word.text for word in sent.words] for sent in stanza_tokenize(d['content']).sentences]"
   ]
  },
  {
   "cell_type": "code",
   "execution_count": null,
   "metadata": {},
   "outputs": [],
   "source": [
    "with open ('00_cts_0301_0403_news.json','w',encoding='utf-8') as f:\n",
    "    for d in tqdm(data):\n",
    "        f.write(json.dumps(d) + '\\n')"
   ]
  }
 ],
 "metadata": {
  "kernelspec": {
   "display_name": "Python 3",
   "language": "python",
   "name": "python3"
  },
  "language_info": {
   "codemirror_mode": {
    "name": "ipython",
    "version": 3
   },
   "file_extension": ".py",
   "mimetype": "text/x-python",
   "name": "python",
   "nbconvert_exporter": "python",
   "pygments_lexer": "ipython3",
   "version": "3.7.6"
  }
 },
 "nbformat": 4,
 "nbformat_minor": 4
}
