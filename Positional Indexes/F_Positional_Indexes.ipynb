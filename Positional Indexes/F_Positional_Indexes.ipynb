{
 "cells": [
  {
   "cell_type": "code",
   "execution_count": null,
   "metadata": {},
   "outputs": [],
   "source": [
    "import json \n",
    "from tqdm import tqdm\n",
    "from ckiptagger import WS\n",
    "from pathlib import Path\n",
    "from collections import defaultdict "
   ]
  },
  {
   "cell_type": "code",
   "execution_count": null,
   "metadata": {},
   "outputs": [],
   "source": [
    "data = [json.loads(l) for l in open(\"/Users/yuni/cts_0301_0403_news.json\",'r',encoding='utf-8')]"
   ]
  },
  {
   "cell_type": "code",
   "execution_count": null,
   "metadata": {},
   "outputs": [],
   "source": [
    "ws = WS(str(Path.home())+'/ckip/data', disable_cuda=True)"
   ]
  },
  {
   "cell_type": "code",
   "execution_count": null,
   "metadata": {},
   "outputs": [],
   "source": [
    "for d in tqdm(data):\n",
    "    d[\"term\"]=ws([d['content']])"
   ]
  },
  {
   "cell_type": "markdown",
   "metadata": {},
   "source": [
    "## 將已經斷詞好的content寫入新的json檔"
   ]
  },
  {
   "cell_type": "code",
   "execution_count": null,
   "metadata": {
    "scrolled": true
   },
   "outputs": [],
   "source": [
    "with open ('P_cts_0301_0403_news.json','w',encoding='utf-8') as f:\n",
    "    for d in tqdm(data):\n",
    "        f.write(json.dumps(d['term']) + '\\n')"
   ]
  },
  {
   "cell_type": "code",
   "execution_count": null,
   "metadata": {},
   "outputs": [],
   "source": [
    "data_list = [json.loads(l) for l in open(\"P_cts_0301_0403_news.json\",'r',encoding='utf-8')]"
   ]
  },
  {
   "cell_type": "code",
   "execution_count": null,
   "metadata": {},
   "outputs": [],
   "source": [
    "#print(data_list[0][0])"
   ]
  },
  {
   "cell_type": "markdown",
   "metadata": {},
   "source": [
    "## fin = [ 每一個term, 第幾篇, 第幾個位置]"
   ]
  },
  {
   "cell_type": "code",
   "execution_count": null,
   "metadata": {},
   "outputs": [],
   "source": [
    "fin =[]     \n",
    "for i in range(len(data_list)):\n",
    "    a = data_list[i][0]\n",
    "    for m in a:\n",
    "        d = [x for x in range(len(a)) if a[x] == m]\n",
    "        fin.append([m,str(i+1),d])"
   ]
  },
  {
   "cell_type": "markdown",
   "metadata": {},
   "source": [
    "## all_dic 將fin 裡的每一個list寫成dict"
   ]
  },
  {
   "cell_type": "code",
   "execution_count": null,
   "metadata": {},
   "outputs": [],
   "source": [
    "all_dic=[]\n",
    "for o,p,c in fin:\n",
    "    dic={}\n",
    "    dic[\"term\"]=o\n",
    "    dic[str(p)]=c\n",
    "    all_dic.append(dic)"
   ]
  },
  {
   "cell_type": "code",
   "execution_count": null,
   "metadata": {},
   "outputs": [],
   "source": [
    "#print(all_dic)"
   ]
  },
  {
   "cell_type": "markdown",
   "metadata": {},
   "source": [
    "## new_dic 將 all_dic 不重複的挑出"
   ]
  },
  {
   "cell_type": "code",
   "execution_count": null,
   "metadata": {},
   "outputs": [],
   "source": [
    "new_dic=[]  \n",
    "for i in tqdm(all_dic):\n",
    "    if i not in new_dic:\n",
    "        new_dic.append(i)"
   ]
  },
  {
   "cell_type": "markdown",
   "metadata": {},
   "source": [
    "## new_dic2 將 new_dic 中同一個term的dict合併"
   ]
  },
  {
   "cell_type": "code",
   "execution_count": null,
   "metadata": {},
   "outputs": [],
   "source": [
    "new_dic2=[]\n",
    "key=[]\n",
    "a=[]\n",
    "for j in tqdm(new_dic):\n",
    "    if j[\"term\"] not in key:\n",
    "        new_dic2.append(j)\n",
    "        key.append(j[\"term\"])\n",
    "    elif j[\"term\"] in key :\n",
    "        a.append(j)    \n",
    "        \n",
    "for y in tqdm(range(len(new_dic2))):\n",
    "    for z in range(len(a)):\n",
    "        if new_dic2[y][\"term\"] == a[z][\"term\"]:\n",
    "            new_dic2[y].update(a[z])"
   ]
  },
  {
   "cell_type": "code",
   "execution_count": null,
   "metadata": {},
   "outputs": [],
   "source": [
    "#a"
   ]
  },
  {
   "cell_type": "code",
   "execution_count": null,
   "metadata": {},
   "outputs": [],
   "source": [
    "#new_dic2"
   ]
  },
  {
   "cell_type": "markdown",
   "metadata": {},
   "source": [
    "## new_dic3 增加一個key，value是這個term在幾篇文章出現過"
   ]
  },
  {
   "cell_type": "code",
   "execution_count": null,
   "metadata": {},
   "outputs": [],
   "source": [
    "new_dic3=[]\n",
    "\n",
    "for c in tqdm(range(len(new_dic2))):\n",
    "    l = len(new_dic2[c])-1\n",
    "    new_dic2[c][\"document freqency\"]= l\n",
    "    new_dic3.append(new_dic2[c])"
   ]
  },
  {
   "cell_type": "code",
   "execution_count": null,
   "metadata": {},
   "outputs": [],
   "source": [
    "new_dic3"
   ]
  },
  {
   "cell_type": "markdown",
   "metadata": {},
   "source": [
    "## 寫入新的json"
   ]
  },
  {
   "cell_type": "code",
   "execution_count": null,
   "metadata": {
    "scrolled": true
   },
   "outputs": [],
   "source": [
    "with open ('F_Positional_Indexes.json','w',encoding='UTF-8') as f:\n",
    "    for alist in tqdm(new_dic3):\n",
    "        f.write(json.dumps(alist) + '\\n')"
   ]
  },
  {
   "cell_type": "code",
   "execution_count": null,
   "metadata": {},
   "outputs": [],
   "source": [
    "F_Positional_Indexes = [json.loads(l) for l in open(\"F_Positional_Indexes.json\",'r',encoding='utf-8')]"
   ]
  },
  {
   "cell_type": "code",
   "execution_count": null,
   "metadata": {},
   "outputs": [],
   "source": [
    "print(F_Positional_Indexes)"
   ]
  },
  {
   "cell_type": "code",
   "execution_count": null,
   "metadata": {},
   "outputs": [],
   "source": []
  }
 ],
 "metadata": {
  "kernelspec": {
   "display_name": "Python 3",
   "language": "python",
   "name": "python3"
  },
  "language_info": {
   "codemirror_mode": {
    "name": "ipython",
    "version": 3
   },
   "file_extension": ".py",
   "mimetype": "text/x-python",
   "name": "python",
   "nbconvert_exporter": "python",
   "pygments_lexer": "ipython3",
   "version": "3.7.6"
  }
 },
 "nbformat": 4,
 "nbformat_minor": 4
}
