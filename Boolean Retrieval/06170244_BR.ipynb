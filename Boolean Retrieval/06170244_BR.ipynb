{
 "cells": [
  {
   "cell_type": "code",
   "execution_count": 2,
   "metadata": {},
   "outputs": [],
   "source": [
    "postings = {'stan':[2, 4, 5, 6, 99, 101],\n",
    "                 'brutus':[1, 2, 4, 11, 31, 45, 173, 174],\n",
    "                 'calpurnia':[2,31,54,101],\n",
    "                 'caesar':[5,31]}"
   ]
  },
  {
   "cell_type": "code",
   "execution_count": 3,
   "metadata": {},
   "outputs": [],
   "source": [
    "#sorted(postings.items(),key=lambda items:(items[0],items[1]),reverse = False) "
   ]
  },
  {
   "cell_type": "code",
   "execution_count": 4,
   "metadata": {},
   "outputs": [],
   "source": [
    "#import operator\n",
    "#terms = sorted(postings.items(),key=operator.itemgetter(1))\n",
    "#terms"
   ]
  },
  {
   "cell_type": "code",
   "execution_count": 7,
   "metadata": {},
   "outputs": [
    {
     "name": "stdout",
     "output_type": "stream",
     "text": [
      "[[1, 2, 4, 11, 31, 45, 173, 174], [2, 4, 5, 6, 99, 101], [2, 31, 54, 101]]\n",
      "The query ['brutus', 'calpurnia', 'stan'] are appeared in document ID: [2]\n"
     ]
    }
   ],
   "source": [
    "def rest(terms):\n",
    "    del terms[0]\n",
    "    return terms\n",
    "\n",
    "def INTERSECT(term_1, term_2):\n",
    "    \n",
    "    answer = []\n",
    "    i = 0\n",
    "    \n",
    "    while i < len(term_1):\n",
    "        if term_1[i] in term_2:\n",
    "            answer.append(term_1[i])\n",
    "        i+=1    \n",
    "    return answer\n",
    "\n",
    "def SORTBYINCREASINGFREQUENCY(terms):\n",
    "    terms.sort()\n",
    "    return terms\n",
    "\n",
    "def boolean_retrieval(terms):\n",
    "    terms = SORTBYINCREASINGFREQUENCY([postings[t] for t in query if t in postings])\n",
    "    if len(terms) == None: return []\n",
    "    result = terms[0]\n",
    "    terms = rest(terms)\n",
    "    \n",
    "    while terms and result:\n",
    "        result = INTERSECT(result,terms[0])\n",
    "        terms = rest(terms)\n",
    "    return result\n",
    "\n",
    "if __name__ == '__main__':\n",
    "    query = ['brutus', 'calpurnia', 'stan']\n",
    "    answer = boolean_retrieval(query)\n",
    "    print('The query {:} are appeared in document ID: {:}'.format(query,answer))"
   ]
  },
  {
   "cell_type": "code",
   "execution_count": 8,
   "metadata": {},
   "outputs": [
    {
     "data": {
      "text/plain": [
       "[[1, 2, 4, 11, 31, 45, 173, 174], [2, 31, 54, 101], [2, 4, 5, 6, 99, 101]]"
      ]
     },
     "execution_count": 8,
     "metadata": {},
     "output_type": "execute_result"
    }
   ],
   "source": [
    "query = ['brutus', 'calpurnia', 'stan']\n",
    "a =[postings[t] for t in query if t in postings]\n",
    "a"
   ]
  },
  {
   "cell_type": "code",
   "execution_count": 6,
   "metadata": {},
   "outputs": [],
   "source": [
    "#a[0]"
   ]
  },
  {
   "cell_type": "code",
   "execution_count": 16,
   "metadata": {},
   "outputs": [
    {
     "data": {
      "text/plain": [
       "[[2, 31, 54, 101], [2, 4, 5, 6, 99, 101], [1, 2, 4, 11, 31, 45, 173, 174]]"
      ]
     },
     "execution_count": 16,
     "metadata": {},
     "output_type": "execute_result"
    }
   ],
   "source": [
    "# a.sort(reverse=True)\n",
    "# a"
   ]
  },
  {
   "cell_type": "code",
   "execution_count": 4,
   "metadata": {},
   "outputs": [
    {
     "name": "stdout",
     "output_type": "stream",
     "text": [
      "[2, 4]\n"
     ]
    }
   ],
   "source": [
    "term_1=[2,4,5,34,56,66]\n",
    "term_2=[2,4]\n",
    "answer = list(set(term_1) & set(term_2))\n",
    "print(answer)"
   ]
  },
  {
   "cell_type": "code",
   "execution_count": null,
   "metadata": {},
   "outputs": [],
   "source": []
  }
 ],
 "metadata": {
  "kernelspec": {
   "display_name": "Python 3",
   "language": "python",
   "name": "python3"
  },
  "language_info": {
   "codemirror_mode": {
    "name": "ipython",
    "version": 3
   },
   "file_extension": ".py",
   "mimetype": "text/x-python",
   "name": "python",
   "nbconvert_exporter": "python",
   "pygments_lexer": "ipython3",
   "version": "3.7.6"
  }
 },
 "nbformat": 4,
 "nbformat_minor": 4
}
