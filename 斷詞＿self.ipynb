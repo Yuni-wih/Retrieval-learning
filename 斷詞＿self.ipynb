{
 "cells": [
  {
   "cell_type": "markdown",
   "metadata": {},
   "source": [
    "# Stanza"
   ]
  },
  {
   "cell_type": "code",
   "execution_count": null,
   "metadata": {},
   "outputs": [],
   "source": [
    "import stanza\n",
    "from stanza.utils.resources import DEFAULT_MODEL_DIR\n",
    "print(DEFAULT_MODEL_DIR)"
   ]
  },
  {
   "cell_type": "code",
   "execution_count": null,
   "metadata": {},
   "outputs": [],
   "source": [
    "stanza.download('en')\n",
    "stanza.download('zh-hant')"
   ]
  },
  {
   "cell_type": "code",
   "execution_count": null,
   "metadata": {},
   "outputs": [],
   "source": [
    "import json\n",
    "import pandas as pd"
   ]
  },
  {
   "cell_type": "code",
   "execution_count": null,
   "metadata": {},
   "outputs": [],
   "source": [
    "file = open('/Users/yuni/cts_0301_0403_news.json','rb')\n",
    "# data_news=[]\n",
    "data_title=[]\n",
    "data_content=[]\n",
    "\n",
    "for line in file.readlines(): \n",
    "    data = json.loads(line)\n",
    "    data_title.append(data['title'])\n",
    "    data_content.append(data['content'])\n",
    "    news_title = pd.DataFrame(data_title)\n",
    "    news_content = pd.DataFrame(data_content)\n",
    "    \n",
    "news_title.columns=['title']\n",
    "news_content.columns=['content']\n",
    "\n",
    "\n",
    "#----全部標題混在一起-----\n",
    "#     data_title.append(data['title'])\n",
    "#     data_content.append(data['content'])\n",
    "\n",
    "#news_title=str()\n",
    "#for i in data_title:\n",
    "#     news_title = str(news_title)+str(i)\n",
    "#data_news.append(data_content)\n",
    "#type(news_title)\n",
    "\n",
    "print(news_title['title'])"
   ]
  },
  {
   "cell_type": "code",
   "execution_count": null,
   "metadata": {
    "scrolled": true
   },
   "outputs": [],
   "source": [
    "print(news_content)"
   ]
  },
  {
   "cell_type": "code",
   "execution_count": null,
   "metadata": {},
   "outputs": [],
   "source": [
    "zh_nlp = stanza.Pipeline(lang='zh-hant', processors='tokenize, lemma, pos', use_=False)"
   ]
  },
  {
   "cell_type": "code",
   "execution_count": null,
   "metadata": {},
   "outputs": [],
   "source": [
    "title_list = []\n",
    "for i in news_title['title']:\n",
    "    title_list.append([i])\n",
    "#print(title_list)\n",
    "title_str = str(title_list) #因為stanza需要str,ckip需要list\n",
    "type(title_str)"
   ]
  },
  {
   "cell_type": "code",
   "execution_count": null,
   "metadata": {},
   "outputs": [],
   "source": [
    "content_list = []\n",
    "for j in news_content['content']:\n",
    "    content_list.append([j])\n",
    "print(content_list)\n",
    "content_str = str(content_list) #因為stanza需要str,ckip需要list"
   ]
  },
  {
   "cell_type": "code",
   "execution_count": null,
   "metadata": {},
   "outputs": [],
   "source": [
    "zh_annotated_title = zh_nlp(title_str)\n",
    "print(zh_annotated_title)"
   ]
  },
  {
   "cell_type": "code",
   "execution_count": null,
   "metadata": {},
   "outputs": [],
   "source": [
    "zh_annotated_content = zh_nlp(content_str)"
   ]
  },
  {
   "cell_type": "code",
   "execution_count": null,
   "metadata": {
    "scrolled": true
   },
   "outputs": [],
   "source": [
    "def title(doc):\n",
    "    fin = []\n",
    "    for i, sent in enumerate(doc.sentences):\n",
    "        for j, word in enumerate(sent.words):\n",
    "            fin.append(word.text)\n",
    "    return fin\n",
    "title(zh_annotated_title)"
   ]
  },
  {
   "cell_type": "code",
   "execution_count": null,
   "metadata": {
    "scrolled": true
   },
   "outputs": [],
   "source": [
    "fin = []\n",
    "for i, sent in enumerate(zh_annotated_title.sentences):\n",
    "    print(*['\\ttext: {token.text}' for token in sent.tokens], sep='\\n')\n",
    "#         for j, word in enumerate(sent.words):\n",
    "#             fin.append(word.text)\n",
    "#     word = zh_annotated_title.sentences[0].words[0]\n"
   ]
  },
  {
   "cell_type": "code",
   "execution_count": null,
   "metadata": {},
   "outputs": [],
   "source": [
    "def content(doc):\n",
    "    fin = []\n",
    "    for i, sent in enumerate(doc.sentences):\n",
    "        for j, word in enumerate(sent.words):\n",
    "            fin.append(word.text)\n",
    "    return fin\n",
    "content(zh_annotated_content)"
   ]
  },
  {
   "cell_type": "markdown",
   "metadata": {},
   "source": [
    "# Ckiptagger"
   ]
  },
  {
   "cell_type": "code",
   "execution_count": null,
   "metadata": {},
   "outputs": [],
   "source": [
    "import numpy as np\n",
    "from ckiptagger import data_utils, construct_dictionary, WS, POS, NER\n",
    "from pathlib import Path\n",
    "import os"
   ]
  },
  {
   "cell_type": "code",
   "execution_count": null,
   "metadata": {},
   "outputs": [],
   "source": [
    "#老師的\n",
    "path = str(Path.home())+'/ckip'\n",
    "if not os.path.exists(path):\n",
    "    os.mkdir(path)\n",
    "    data_utils.download_data_gdown(path)"
   ]
  },
  {
   "cell_type": "code",
   "execution_count": null,
   "metadata": {},
   "outputs": [],
   "source": [
    "zh_ws = WS(path+\"/data\")\n",
    "zh_pos = POS(path+\"/data\")"
   ]
  },
  {
   "cell_type": "code",
   "execution_count": null,
   "metadata": {},
   "outputs": [],
   "source": [
    "zh_annotated_ws = zh_ws(k)\n",
    "zh_annotated_pos = zh_pos(zh_annotated_ws)"
   ]
  },
  {
   "cell_type": "code",
   "execution_count": null,
   "metadata": {},
   "outputs": [],
   "source": [
    "for k in title_list:\n",
    "    zh_annotated_ws = zh_ws(k)\n",
    "    print(zh_annotated_ws)"
   ]
  },
  {
   "cell_type": "code",
   "execution_count": null,
   "metadata": {},
   "outputs": [],
   "source": [
    "zh_annotated_ws_ = zh_ws(content_list)\n",
    "zh_annotated_pos = zh_pos(zh_annotated_ws_)"
   ]
  },
  {
   "cell_type": "code",
   "execution_count": null,
   "metadata": {},
   "outputs": [],
   "source": [
    "for m in content_list:\n",
    "    zh_annotated_ws_ = zh_ws(m)\n",
    "    print(zh_annotated_ws_)"
   ]
  },
  {
   "cell_type": "code",
   "execution_count": null,
   "metadata": {},
   "outputs": [],
   "source": [
    "# print(\"title\")\n",
    "# res = []\n",
    "# for i, sentence in enumerate(zip(zh_annotated_ws,zh_annotated_pos)):\n",
    "#     for j,word in enumerate(zip(sentence[0], sentence[1])):\n",
    "#         res.append([format(word[0])])\n",
    "# print(res)"
   ]
  },
  {
   "cell_type": "code",
   "execution_count": null,
   "metadata": {},
   "outputs": [],
   "source": [
    "# print(\"content\")\n",
    "# res = []\n",
    "# for i, sentence in enumerate(zip(zh_annotated_ws_,zh_annotated_pos)):\n",
    "#     for j,word in enumerate(zip(sentence[0], sentence[1])):\n",
    "#         res.append(list(word[0]))\n",
    "# print(res)"
   ]
  }
 ],
 "metadata": {
  "kernelspec": {
   "display_name": "Python 3",
   "language": "python",
   "name": "python3"
  },
  "language_info": {
   "codemirror_mode": {
    "name": "ipython",
    "version": 3
   },
   "file_extension": ".py",
   "mimetype": "text/x-python",
   "name": "python",
   "nbconvert_exporter": "python",
   "pygments_lexer": "ipython3",
   "version": "3.7.6"
  }
 },
 "nbformat": 4,
 "nbformat_minor": 2
}
